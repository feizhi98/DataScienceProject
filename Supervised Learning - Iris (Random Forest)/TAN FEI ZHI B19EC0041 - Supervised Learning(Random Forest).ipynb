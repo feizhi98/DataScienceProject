{
 "cells": [
  {
   "cell_type": "markdown",
   "id": "05fec145",
   "metadata": {},
   "source": [
    "# SCSP5013-Advanced Analytics(Alternative Assessment)\n",
    "\n",
    "### TAN FEI ZHI B19EC0041"
   ]
  },
  {
   "cell_type": "markdown",
   "id": "3b328c3f",
   "metadata": {},
   "source": [
    "# Supervised Learning\n",
    "#### Dataset used: Iris\n",
    "#### Method used: Random Forest\n",
    "#### Data source: https://www.kaggle.com/code/anshigupta01/iris-flower-classification/data"
   ]
  },
  {
   "cell_type": "markdown",
   "id": "a827b210",
   "metadata": {},
   "source": [
    "# Topic Walkthrough\n",
    "\n",
    "Since the pre-analytics data, data exploration and visualization and feature selection have been conducted and covered in project. Hence, this study will start from supervised learning. However, data pre-processing will be conducted to clean the data before start with supervised learning.\n",
    "\n",
    "#### Topic 1: Import Data\n",
    "#### Topic 2: Data-preprocessing\n",
    "#### Topic 3: Supervised Learning (Random Forest)\n",
    "#### Topic 4: Optimization (Stochastic Gradient Descent)\n",
    "#### Topic 5: Conclusion"
   ]
  },
  {
   "cell_type": "markdown",
   "id": "58ca74f0",
   "metadata": {},
   "source": [
    "# Topic 1: Import Data"
   ]
  },
  {
   "cell_type": "markdown",
   "id": "fe540134",
   "metadata": {},
   "source": [
    "Import libraries and dataset"
   ]
  },
  {
   "cell_type": "markdown",
   "id": "cda658c1",
   "metadata": {},
   "source": [
    "#### Import Libraries"
   ]
  },
  {
   "cell_type": "code",
   "execution_count": 1,
   "id": "2b0d51ee",
   "metadata": {},
   "outputs": [],
   "source": [
    "import pandas as pd\n",
    "import numpy as np\n",
    "import seaborn as sns\n",
    "import matplotlib.pyplot as plt\n",
    "%matplotlib inline\n",
    "\n",
    "#Ignore warning\n",
    "import warnings\n",
    "warnings.filterwarnings('ignore')"
   ]
  },
  {
   "cell_type": "markdown",
   "id": "ffd84541",
   "metadata": {},
   "source": [
    "#### Read Data"
   ]
  },
  {
   "cell_type": "code",
   "execution_count": 2,
   "id": "e323342d",
   "metadata": {},
   "outputs": [],
   "source": [
    "path = \"C:\\\\Users\\\\User\\\\Downloads\\\\Iris Dataset.csv\""
   ]
  },
  {
   "cell_type": "code",
   "execution_count": 3,
   "id": "7fa4079e",
   "metadata": {},
   "outputs": [
    {
     "data": {
      "text/html": [
       "<div>\n",
       "<style scoped>\n",
       "    .dataframe tbody tr th:only-of-type {\n",
       "        vertical-align: middle;\n",
       "    }\n",
       "\n",
       "    .dataframe tbody tr th {\n",
       "        vertical-align: top;\n",
       "    }\n",
       "\n",
       "    .dataframe thead th {\n",
       "        text-align: right;\n",
       "    }\n",
       "</style>\n",
       "<table border=\"1\" class=\"dataframe\">\n",
       "  <thead>\n",
       "    <tr style=\"text-align: right;\">\n",
       "      <th></th>\n",
       "      <th>Id</th>\n",
       "      <th>SepalLengthCm</th>\n",
       "      <th>SepalWidthCm</th>\n",
       "      <th>PetalLengthCm</th>\n",
       "      <th>PetalWidthCm</th>\n",
       "      <th>Species</th>\n",
       "    </tr>\n",
       "  </thead>\n",
       "  <tbody>\n",
       "    <tr>\n",
       "      <th>0</th>\n",
       "      <td>1</td>\n",
       "      <td>5.1</td>\n",
       "      <td>3.5</td>\n",
       "      <td>1.4</td>\n",
       "      <td>0.2</td>\n",
       "      <td>Iris-setosa</td>\n",
       "    </tr>\n",
       "    <tr>\n",
       "      <th>1</th>\n",
       "      <td>2</td>\n",
       "      <td>4.9</td>\n",
       "      <td>3.0</td>\n",
       "      <td>1.4</td>\n",
       "      <td>0.2</td>\n",
       "      <td>Iris-setosa</td>\n",
       "    </tr>\n",
       "    <tr>\n",
       "      <th>2</th>\n",
       "      <td>3</td>\n",
       "      <td>4.7</td>\n",
       "      <td>3.2</td>\n",
       "      <td>1.3</td>\n",
       "      <td>0.2</td>\n",
       "      <td>Iris-setosa</td>\n",
       "    </tr>\n",
       "    <tr>\n",
       "      <th>3</th>\n",
       "      <td>4</td>\n",
       "      <td>4.6</td>\n",
       "      <td>3.1</td>\n",
       "      <td>1.5</td>\n",
       "      <td>0.2</td>\n",
       "      <td>Iris-setosa</td>\n",
       "    </tr>\n",
       "    <tr>\n",
       "      <th>4</th>\n",
       "      <td>5</td>\n",
       "      <td>5.0</td>\n",
       "      <td>3.6</td>\n",
       "      <td>1.4</td>\n",
       "      <td>0.2</td>\n",
       "      <td>Iris-setosa</td>\n",
       "    </tr>\n",
       "  </tbody>\n",
       "</table>\n",
       "</div>"
      ],
      "text/plain": [
       "   Id  SepalLengthCm  SepalWidthCm  PetalLengthCm  PetalWidthCm      Species\n",
       "0   1            5.1           3.5            1.4           0.2  Iris-setosa\n",
       "1   2            4.9           3.0            1.4           0.2  Iris-setosa\n",
       "2   3            4.7           3.2            1.3           0.2  Iris-setosa\n",
       "3   4            4.6           3.1            1.5           0.2  Iris-setosa\n",
       "4   5            5.0           3.6            1.4           0.2  Iris-setosa"
      ]
     },
     "execution_count": 3,
     "metadata": {},
     "output_type": "execute_result"
    }
   ],
   "source": [
    "df = pd.read_csv(path)\n",
    "df.head()"
   ]
  },
  {
   "cell_type": "markdown",
   "id": "50048cad",
   "metadata": {},
   "source": [
    "# Topic 2: Data Pre-processing"
   ]
  },
  {
   "cell_type": "markdown",
   "id": "67af8b5e",
   "metadata": {},
   "source": [
    "#### Import Libraries "
   ]
  },
  {
   "cell_type": "code",
   "execution_count": 4,
   "id": "0adaf090",
   "metadata": {},
   "outputs": [],
   "source": [
    "from sklearn.model_selection import train_test_split"
   ]
  },
  {
   "cell_type": "markdown",
   "id": "6de37a7a",
   "metadata": {},
   "source": [
    "#### Drop Unused Column(Id)"
   ]
  },
  {
   "cell_type": "markdown",
   "id": "0d7f0fd8",
   "metadata": {},
   "source": [
    "Since Id is not necessary in this study, hence the attribute is dropped before proceeding with supervised learning."
   ]
  },
  {
   "cell_type": "code",
   "execution_count": 5,
   "id": "bf9015d8",
   "metadata": {},
   "outputs": [
    {
     "data": {
      "text/html": [
       "<div>\n",
       "<style scoped>\n",
       "    .dataframe tbody tr th:only-of-type {\n",
       "        vertical-align: middle;\n",
       "    }\n",
       "\n",
       "    .dataframe tbody tr th {\n",
       "        vertical-align: top;\n",
       "    }\n",
       "\n",
       "    .dataframe thead th {\n",
       "        text-align: right;\n",
       "    }\n",
       "</style>\n",
       "<table border=\"1\" class=\"dataframe\">\n",
       "  <thead>\n",
       "    <tr style=\"text-align: right;\">\n",
       "      <th></th>\n",
       "      <th>SepalLengthCm</th>\n",
       "      <th>SepalWidthCm</th>\n",
       "      <th>PetalLengthCm</th>\n",
       "      <th>PetalWidthCm</th>\n",
       "      <th>Species</th>\n",
       "    </tr>\n",
       "  </thead>\n",
       "  <tbody>\n",
       "    <tr>\n",
       "      <th>0</th>\n",
       "      <td>5.1</td>\n",
       "      <td>3.5</td>\n",
       "      <td>1.4</td>\n",
       "      <td>0.2</td>\n",
       "      <td>Iris-setosa</td>\n",
       "    </tr>\n",
       "    <tr>\n",
       "      <th>1</th>\n",
       "      <td>4.9</td>\n",
       "      <td>3.0</td>\n",
       "      <td>1.4</td>\n",
       "      <td>0.2</td>\n",
       "      <td>Iris-setosa</td>\n",
       "    </tr>\n",
       "    <tr>\n",
       "      <th>2</th>\n",
       "      <td>4.7</td>\n",
       "      <td>3.2</td>\n",
       "      <td>1.3</td>\n",
       "      <td>0.2</td>\n",
       "      <td>Iris-setosa</td>\n",
       "    </tr>\n",
       "    <tr>\n",
       "      <th>3</th>\n",
       "      <td>4.6</td>\n",
       "      <td>3.1</td>\n",
       "      <td>1.5</td>\n",
       "      <td>0.2</td>\n",
       "      <td>Iris-setosa</td>\n",
       "    </tr>\n",
       "    <tr>\n",
       "      <th>4</th>\n",
       "      <td>5.0</td>\n",
       "      <td>3.6</td>\n",
       "      <td>1.4</td>\n",
       "      <td>0.2</td>\n",
       "      <td>Iris-setosa</td>\n",
       "    </tr>\n",
       "  </tbody>\n",
       "</table>\n",
       "</div>"
      ],
      "text/plain": [
       "   SepalLengthCm  SepalWidthCm  PetalLengthCm  PetalWidthCm      Species\n",
       "0            5.1           3.5            1.4           0.2  Iris-setosa\n",
       "1            4.9           3.0            1.4           0.2  Iris-setosa\n",
       "2            4.7           3.2            1.3           0.2  Iris-setosa\n",
       "3            4.6           3.1            1.5           0.2  Iris-setosa\n",
       "4            5.0           3.6            1.4           0.2  Iris-setosa"
      ]
     },
     "execution_count": 5,
     "metadata": {},
     "output_type": "execute_result"
    }
   ],
   "source": [
    "df1 = df.drop(['Id'], axis=1)\n",
    "df1.head()"
   ]
  },
  {
   "cell_type": "markdown",
   "id": "58b0270f",
   "metadata": {},
   "source": [
    "#### Encode Species (from string to integer)"
   ]
  },
  {
   "cell_type": "markdown",
   "id": "f065f844",
   "metadata": {},
   "source": [
    "This step is significant to convert/encode the species from string to integer(eg:Iris-setosa to 0)."
   ]
  },
  {
   "cell_type": "code",
   "execution_count": 6,
   "id": "cad74118",
   "metadata": {},
   "outputs": [
    {
     "data": {
      "text/plain": [
       "array([0, 1, 2], dtype=int64)"
      ]
     },
     "execution_count": 6,
     "metadata": {},
     "output_type": "execute_result"
    }
   ],
   "source": [
    "df1['Species'] = pd.factorize(df1[\"Species\"])[0] \n",
    "Target = 'Species'\n",
    "df1['Species'].unique()"
   ]
  },
  {
   "cell_type": "markdown",
   "id": "cfa1b269",
   "metadata": {},
   "source": [
    "#### Define the Important Features and Assign it as Features"
   ]
  },
  {
   "cell_type": "code",
   "execution_count": 7,
   "id": "5a589466",
   "metadata": {},
   "outputs": [],
   "source": [
    "Features = ['SepalLengthCm', 'SepalWidthCm', 'PetalLengthCm', 'PetalWidthCm']"
   ]
  },
  {
   "cell_type": "markdown",
   "id": "3c39db76",
   "metadata": {},
   "source": [
    "#### Split Dataset to Training and Testing/Validation Data"
   ]
  },
  {
   "cell_type": "markdown",
   "id": "95f45060",
   "metadata": {},
   "source": [
    "Before starting with supervised training, it is a compulsory step to split the dataset to training and testing data. <br>\n",
    "This method aids in ensuring the accuracy of data model construction and the processes that use data models. <br>\n",
    "In this study, splitting dataset into training and testing data.80% of data for training and 20% of data for validation.<br><br>\n",
    "Random state ensures that the splits that you generate are reproducible.\n",
    "The random_state in this study is set to **3**. It means that running 3 times of validation. <br>\n",
    "Without random_state, it calls the function multiple times will produce different results.<br>\n",
    "With random_state, it will produce the same results across different calls."
   ]
  },
  {
   "cell_type": "code",
   "execution_count": 8,
   "id": "0746e62d",
   "metadata": {},
   "outputs": [
    {
     "name": "stdout",
     "output_type": "stream",
     "text": [
      "Feature Set Used    :  ['SepalLengthCm', 'SepalWidthCm', 'PetalLengthCm', 'PetalWidthCm']\n",
      "Target Class        :  Species\n",
      "Training Set Size   :  (120, 5)\n",
      "Test Set Size       :  (30, 5)\n"
     ]
    }
   ],
   "source": [
    "x, y = train_test_split(df1, \n",
    "                        test_size = 0.2, \n",
    "                        train_size = 0.8, \n",
    "                        random_state=3)\n",
    "\n",
    "x1 = x[Features]    #Features to train\n",
    "x2 = x[Target]      #Target Class to train\n",
    "y1 = y[Features]    #Features to test\n",
    "y2 = y[Target]      #Target Class to test\n",
    "\n",
    "print('Feature Set Used    : ', Features)\n",
    "print('Target Class        : ', Target)\n",
    "print('Training Set Size   : ', x.shape)\n",
    "print('Test Set Size       : ', y.shape)"
   ]
  },
  {
   "cell_type": "markdown",
   "id": "59ae3f86",
   "metadata": {},
   "source": [
    "# Topic 3: Supervised Learning (Random Forest)"
   ]
  },
  {
   "cell_type": "markdown",
   "id": "4f0fdf38",
   "metadata": {},
   "source": [
    "### Random Forest"
   ]
  },
  {
   "cell_type": "markdown",
   "id": "22a2d79b",
   "metadata": {},
   "source": [
    "A randomly chosen portion of the training data is used by the Random forest classifier to generate a collection of decision trees. It simply consists of a collection of decision trees (DT) from a randomly chosen subset of the training set, which are subsequently used to decide the final prediction.\n",
    "\n",
    "Random Forest provides the highest accuracy for classification. It can be used for handling a large dataset of data. It can avoid overfitting of data. However, it is more complicated compared to other classification methods."
   ]
  },
  {
   "cell_type": "markdown",
   "id": "db0adcf9",
   "metadata": {},
   "source": [
    "#### Import Libraries"
   ]
  },
  {
   "cell_type": "code",
   "execution_count": 9,
   "id": "6ba0bacd",
   "metadata": {},
   "outputs": [],
   "source": [
    "from sklearn.metrics import precision_score, recall_score, confusion_matrix, classification_report, accuracy_score, f1_score\n",
    "from yellowbrick.classifier import ClassificationReport\n",
    "from sklearn import metrics\n",
    "from sklearn.ensemble import RandomForestClassifier"
   ]
  },
  {
   "cell_type": "markdown",
   "id": "05c2163e",
   "metadata": {},
   "source": [
    "#### Create RF Model"
   ]
  },
  {
   "cell_type": "markdown",
   "id": "110392ba",
   "metadata": {},
   "source": [
    "**n_estimators**:The number of trees you want to build before taking the maximum voting or averages of predictions. <br>\n",
    "**min_samples_split**:The minimum number of samples required to split the internal node.<br>\n",
    "**max_depth**:The longest path between the root node and the leaf node.<br>\n",
    "**min_samples_leaf**:The minimum number of samples required to be a leaft node.<br>\n",
    "\n",
    "After creating the RF model, fit the data to the created RF model and do the prediction."
   ]
  },
  {
   "cell_type": "code",
   "execution_count": 10,
   "id": "f4199259",
   "metadata": {},
   "outputs": [],
   "source": [
    "rf_model = RandomForestClassifier(n_estimators=70, \n",
    "                                  min_samples_split = 30,\n",
    "                                  bootstrap = True, \n",
    "                                  max_depth = 50, \n",
    "                                  min_samples_leaf = 25)\n",
    "\n",
    "#Fit to the RF model\n",
    "rf_model.fit(X=x1,\n",
    "             y=x2)\n",
    "\n",
    "# Prediction\n",
    "result = rf_model.predict(y[Features])"
   ]
  },
  {
   "cell_type": "markdown",
   "id": "3e907653",
   "metadata": {},
   "source": [
    "#### Model Evaluation"
   ]
  },
  {
   "cell_type": "markdown",
   "id": "7cf83c22",
   "metadata": {},
   "source": [
    "In this session, the performance of model will be evaluated by validation process based on accuracy, recall, precision, F1 Score and confusion matrix.<br><br>\n",
    "**Accuracy**:The fraction of predictions our model got right.<br>\n",
    "**Recall**: It indicates that how many of the true positives were recalled.<br>\n",
    "**Precision**:The quality of a positive prediction made by the model.<br>\n",
    "**F1 score**:It is a performance predictor of a model by combining two metrics — precision and recall.<br>\n",
    "**Confusion Matrix**:A matrix to determine the performance of the classification models for test data.\n",
    "\n",
    "Next, the visualization of confusion matrix using heatmap also been plotted to observe the performance of the model."
   ]
  },
  {
   "cell_type": "code",
   "execution_count": 11,
   "id": "555c9739",
   "metadata": {},
   "outputs": [
    {
     "name": "stdout",
     "output_type": "stream",
     "text": [
      "========== Random Forest Results ==========\n",
      "Accuracy    :  0.9666666666666667\n",
      "Recall      :  0.9666666666666667\n",
      "Precision   :  0.9696969696969696\n",
      "F1 Score    :  0.9666666666666667\n",
      "Confusion Matrix: \n",
      "[[10  0  0]\n",
      " [ 0  9  1]\n",
      " [ 0  0 10]]\n"
     ]
    },
    {
     "data": {
      "text/plain": [
       "<AxesSubplot:>"
      ]
     },
     "execution_count": 11,
     "metadata": {},
     "output_type": "execute_result"
    },
    {
     "data": {
      "image/png": "[encoded data removed]",
      "text/plain": [
       "<Figure size 576x396 with 2 Axes>"
      ]
     },
     "metadata": {},
     "output_type": "display_data"
    }
   ],
   "source": [
    "ac_sc = accuracy_score(y2, result)\n",
    "rc_sc = recall_score(y2, result, average=\"weighted\")\n",
    "pr_sc = precision_score(y2, result, average=\"weighted\")\n",
    "f1_sc = f1_score(y2, result, average='micro')\n",
    "confusion_m = confusion_matrix(y2, result)\n",
    "\n",
    "print(\"========== Random Forest Results ==========\")\n",
    "print(\"Accuracy    : \", ac_sc)\n",
    "print(\"Recall      : \", rc_sc)\n",
    "print(\"Precision   : \", pr_sc)\n",
    "print(\"F1 Score    : \", f1_sc)\n",
    "print(\"Confusion Matrix: \")\n",
    "print(confusion_m)\n",
    "sns.heatmap(confusion_m, annot=True)"
   ]
  },
  {
   "cell_type": "markdown",
   "id": "1b253c2b",
   "metadata": {},
   "source": [
    "Based on the results above, it shows a very good performance with 0.97 accuracy,recall,precision and F1 score."
   ]
  },
  {
   "cell_type": "markdown",
   "id": "708eb8cb",
   "metadata": {},
   "source": [
    "#### Classification Report"
   ]
  },
  {
   "cell_type": "markdown",
   "id": "53d9a9c9",
   "metadata": {},
   "source": [
    "In this section, the classification report is printed to observe the precision,recall and f1 score based on different features."
   ]
  },
  {
   "cell_type": "code",
   "execution_count": 12,
   "id": "dec50dbf",
   "metadata": {},
   "outputs": [
    {
     "name": "stdout",
     "output_type": "stream",
     "text": [
      "================= Classification Report =================\n",
      "\n",
      "                 precision    recall  f1-score   support\n",
      "\n",
      "    Iris-setosa       1.00      1.00      1.00        10\n",
      "Iris-versicolor       1.00      0.90      0.95        10\n",
      " Iris-virginica       0.91      1.00      0.95        10\n",
      "\n",
      "       accuracy                           0.97        30\n",
      "      macro avg       0.97      0.97      0.97        30\n",
      "   weighted avg       0.97      0.97      0.97        30\n",
      "\n"
     ]
    },
    {
     "data": {
      "image/png": "[encoded data removed]",
      "text/plain": [
       "<Figure size 576x396 with 2 Axes>"
      ]
     },
     "metadata": {},
     "output_type": "display_data"
    }
   ],
   "source": [
    "target_names = ['Iris-setosa', 'Iris-versicolor', 'Iris-virginica']\n",
    "visualizer = ClassificationReport(rf_model, classes=target_names)\n",
    "visualizer.fit(X=x1, y=x2)     # Fit the training data to the visualizer\n",
    "visualizer.score(y1, y2)       \n",
    "\n",
    "print('================= Classification Report =================')\n",
    "print('')\n",
    "print(classification_report(y2, result, target_names=target_names))\n",
    "\n",
    "g = visualizer.poof()             # Draw/show/poof the data"
   ]
  },
  {
   "cell_type": "markdown",
   "id": "0c5731ef",
   "metadata": {},
   "source": [
    "Based on the result above, we can observe that the precision,recall and f1 score of three types of iris species. <br>\n",
    "The most accurate is the iris-sentosa with 1.0 for three metrics. "
   ]
  },
  {
   "cell_type": "markdown",
   "id": "58bc275f",
   "metadata": {},
   "source": [
    "# Topic 4: Optimization(Stochastic Gradient Descent)"
   ]
  },
  {
   "cell_type": "markdown",
   "id": "deb6fb37",
   "metadata": {},
   "source": [
    "Optimization is the process where we train the model iteratively that results in a maximum and minimum function evaluation. It is one of the most important phenomena in Machine Learning to get better results.In a simple word, optimization is an effective approach to achieve a \"best\" solution, where a single objective is maximized or minimized."
   ]
  },
  {
   "cell_type": "markdown",
   "id": "aa0638f8",
   "metadata": {},
   "source": [
    "### Stochastic Gradient Descent(SGD)"
   ]
  },
  {
   "cell_type": "markdown",
   "id": "52118149",
   "metadata": {},
   "source": [
    "The optimization algorithm stochastic gradient descent is frequently used in machine learning applications to identify the model parameters that best match the expected and actual outputs.<br><br>\n",
    "Stochastic Gradient Descent is that it does the calculations faster than gradient descent and batch gradient descent.<br>\n",
    "It is easier to fit in the memory due to a single training example being processed by the network.<br>\n",
    "For larger datasets, it can converge faster as it causes updates to the parameters more frequently.<br>\n",
    "\n",
    "However, unlike batch gradient descent, stochastic gradient descent does not descend smoothly because of its inherent randomness. This implies that it will oscillate, and while it might generate useful parameters, they are rarely going to be ideal."
   ]
  },
  {
   "cell_type": "markdown",
   "id": "1242e9d1",
   "metadata": {},
   "source": [
    "#### Import libraries for SGD"
   ]
  },
  {
   "cell_type": "code",
   "execution_count": 36,
   "id": "9f7b34f9",
   "metadata": {},
   "outputs": [],
   "source": [
    "from sklearn.linear_model import SGDRegressor\n",
    "from sklearn.metrics import mean_squared_error"
   ]
  },
  {
   "cell_type": "markdown",
   "id": "aee8198a",
   "metadata": {},
   "source": [
    "#### Assigned X,y and thetas"
   ]
  },
  {
   "cell_type": "markdown",
   "id": "c18c756f",
   "metadata": {},
   "source": [
    "Assigned species as y and other variables as X"
   ]
  },
  {
   "cell_type": "code",
   "execution_count": 37,
   "id": "95d80ecf",
   "metadata": {},
   "outputs": [],
   "source": [
    "X,y = df.drop('Species',axis=1),df['Species']\n",
    "\n",
    "thetas = np.zeros(X.shape[1])"
   ]
  },
  {
   "cell_type": "markdown",
   "id": "c9ef9875",
   "metadata": {},
   "source": [
    "#### Encoded Species "
   ]
  },
  {
   "cell_type": "code",
   "execution_count": 38,
   "id": "342eab21",
   "metadata": {},
   "outputs": [
    {
     "data": {
      "text/plain": [
       "array([0, 1, 2], dtype=int64)"
      ]
     },
     "execution_count": 38,
     "metadata": {},
     "output_type": "execute_result"
    }
   ],
   "source": [
    "df['Species'] = pd.factorize(df[\"Species\"])[0] \n",
    "Target = 'Species'\n",
    "df['Species'].unique()"
   ]
  },
  {
   "cell_type": "markdown",
   "id": "f1291e49",
   "metadata": {},
   "source": [
    "#### Cost Function"
   ]
  },
  {
   "cell_type": "markdown",
   "id": "a5f80ab5",
   "metadata": {},
   "source": [
    "A cost function, often known as a loss function, is a simple function that figures out how much money a hypothesis loses."
   ]
  },
  {
   "cell_type": "code",
   "execution_count": 39,
   "id": "e94adc3f",
   "metadata": {},
   "outputs": [],
   "source": [
    "def cost_function(X,Y,B):\n",
    "    predictions = np.dot(X,B.T)\n",
    "    \n",
    "    cost = (1/len(Y)) * np.sum((predictions - Y) ** 2)\n",
    "    return cost"
   ]
  },
  {
   "cell_type": "code",
   "execution_count": 40,
   "id": "1c7b341e",
   "metadata": {},
   "outputs": [
    {
     "data": {
      "text/plain": [
       "1.6666666666666667"
      ]
     },
     "execution_count": 40,
     "metadata": {},
     "output_type": "execute_result"
    }
   ],
   "source": [
    "cost_function(X,y,thetas)"
   ]
  },
  {
   "cell_type": "markdown",
   "id": "5c146b1e",
   "metadata": {},
   "source": [
    "#### Mean Squared Error"
   ]
  },
  {
   "cell_type": "markdown",
   "id": "e3f59a0b",
   "metadata": {},
   "source": [
    "Mean Squared Error is a measure of how close a fitted line is to data points."
   ]
  },
  {
   "cell_type": "code",
   "execution_count": 41,
   "id": "508f47d2",
   "metadata": {},
   "outputs": [
    {
     "data": {
      "text/plain": [
       "1.6666666666666667"
      ]
     },
     "execution_count": 41,
     "metadata": {},
     "output_type": "execute_result"
    }
   ],
   "source": [
    "mean_squared_error(np.dot(X,thetas.T),y)"
   ]
  },
  {
   "cell_type": "markdown",
   "id": "a086fa98",
   "metadata": {},
   "source": [
    "#### Stochastic Gradient Descent(SGD) Implementation"
   ]
  },
  {
   "cell_type": "markdown",
   "id": "1a98aedc",
   "metadata": {},
   "source": [
    "Implementing SGD here."
   ]
  },
  {
   "cell_type": "markdown",
   "id": "bf104207",
   "metadata": {},
   "source": [
    "#### Min-Max Scaling"
   ]
  },
  {
   "cell_type": "markdown",
   "id": "60f699b2",
   "metadata": {},
   "source": [
    "Min-max scaling is to subtract the minimum value in the dataset with all the values \n",
    "and then divide this by the range of the dataset(maximum-minimum). "
   ]
  },
  {
   "cell_type": "code",
   "execution_count": 42,
   "id": "77130498",
   "metadata": {},
   "outputs": [],
   "source": [
    "X_norm = (X - X.min()) / (X.max() - X.min())\n",
    "X = X_norm"
   ]
  },
  {
   "cell_type": "markdown",
   "id": "ba073b3a",
   "metadata": {},
   "source": [
    "#### Learning Schedule"
   ]
  },
  {
   "cell_type": "markdown",
   "id": "3455bc88",
   "metadata": {},
   "source": [
    "Setting the learning rate can be challenging since Stochastic Gradient Descent's inherent randomness prevents the algorithm from ever settling at a minimum.\n",
    "\n",
    "In order to give the algorithm a better chance of finding the global minimum, one way is to set the learning rate to be initially big (so it can bypass local optima) and then gradually decline."
   ]
  },
  {
   "cell_type": "code",
   "execution_count": 43,
   "id": "32a0a0cf",
   "metadata": {},
   "outputs": [],
   "source": [
    "t0,t1 = 5,50 # hyperparams\n",
    "def learning_schedule(t):\n",
    "    return t0/(t+t1)"
   ]
  },
  {
   "cell_type": "code",
   "execution_count": 48,
   "id": "05b341fd",
   "metadata": {},
   "outputs": [],
   "source": [
    "def stochastic_gradient_descent(X,y,theta,n_epochs=50):\n",
    "    c_hist = [0] * n_epochs\n",
    "    for epoch in range(n_epochs):\n",
    "        for i in range(len(y)):\n",
    "            rand_index = np.random.randint(len(y))\n",
    "            ind_x = X[rand_index:rand_index+1]\n",
    "            ind_y = y[rand_index:rand_index+1]\n",
    "\n",
    "            gradients = 2 * ind_x.T.dot(ind_x.dot(theta) - ind_y)\n",
    "            eta = learning_schedule(epoch * len(y) + i)\n",
    "            theta = theta - eta * gradients\n",
    "            c_hist[epoch] = cost_function(ind_x,ind_y,theta)\n",
    "    return theta,c_hist"
   ]
  },
  {
   "cell_type": "code",
   "execution_count": 49,
   "id": "360ac06f",
   "metadata": {},
   "outputs": [],
   "source": [
    "th_n,cost_history = stochastic_gradient_descent(X,y,thetas)"
   ]
  },
  {
   "cell_type": "markdown",
   "id": "b169b836",
   "metadata": {},
   "source": [
    "#### Evaluating the performance of SGD"
   ]
  },
  {
   "cell_type": "code",
   "execution_count": 50,
   "id": "a07894d7",
   "metadata": {},
   "outputs": [
    {
     "data": {
      "text/plain": [
       "0.03261903876175174"
      ]
     },
     "execution_count": 50,
     "metadata": {},
     "output_type": "execute_result"
    }
   ],
   "source": [
    "mean_squared_error(np.dot(X,th_n.T),y)"
   ]
  },
  {
   "cell_type": "markdown",
   "id": "3d3b4a14",
   "metadata": {},
   "source": [
    "Based on the result above, the performance is quite good since the mean squared error reduced from 1.67 to 0.03.<br>\n",
    "We can observe the improvement after SGD optimization."
   ]
  },
  {
   "cell_type": "markdown",
   "id": "f0247cc4",
   "metadata": {},
   "source": [
    "#### Plot the graph"
   ]
  },
  {
   "cell_type": "code",
   "execution_count": 51,
   "id": "fc7e4e22",
   "metadata": {},
   "outputs": [
    {
     "data": {
      "image/png": "[encoded data removed]",
      "text/plain": [
       "<Figure size 576x396 with 1 Axes>"
      ]
     },
     "metadata": {},
     "output_type": "display_data"
    }
   ],
   "source": [
    "plt.plot(range(50),cost_history)\n",
    "plt.show()"
   ]
  },
  {
   "cell_type": "markdown",
   "id": "34b878ed",
   "metadata": {},
   "source": [
    "Based on the line graph above, we can see the cost function(loss) by the number of epochs.<br>\n",
    "The loss is gradually decreasing from epoch to epoch.<br>\n",
    "The result shown above is an ideal situation for the optimization."
   ]
  },
  {
   "cell_type": "markdown",
   "id": "b077bb05",
   "metadata": {},
   "source": [
    "# Topic 5: Conclusion"
   ]
  },
  {
   "cell_type": "markdown",
   "id": "62078a1b",
   "metadata": {},
   "source": [
    "In conclusion, there are a few topics that have been covered in this study.Since the data pre-analytics have been covered in group project, this study starts with data pre-processing to drop unused column(Id) and encode the species. After data pre-processing, the iris dataset is splitted into training and testing data.<br>\n",
    "80% of data is used for training and 20% of data is used for testing/validation.\n",
    "\n",
    "Next,the supervised learning takes place. The algorithm selected for this study is Random Forest.\n",
    "I have go through a few classification methods and Random Forest is one of the supervised learning methods which showing the highest accuracy.\n",
    "RF consists of many decision trees. The brief explanation of RF will be included in the report and section Topic 2.\n",
    "The RF model is created by defining the variables such as n_estimators and min_samples_split.<br>\n",
    "By then, the data fits to the model and the prediction is conducted based on features.\n",
    "The performance of RF is evaluated by accuracy, recall, precision, f1 score and confusion matrix.\n",
    "The RF shows a very high accuracy with 0.97 means that the prediction is very accurate.\n",
    "The created RF model fits well to the dataset.<br>\n",
    "\n",
    "In addition, the Stochastic Gradient Descent(SGD) is selected for optimization. Stochastic gradient descent is an optimization algorithm often used in machine learning applications to find the model parameters that correspond to the best fit between predicted and actual outputs.\n",
    "The cost function is used to find the loss. A cost function is an important parameter that determines how well a machine learning model performs for a given dataset.\n",
    "SGD will run from epoch to epoch and lastly the performance of SGD is evaluated by mean_sqaured_error.\n",
    "The performance is quite good since the mean squared error reduced from 1.67 to 0.03.\n",
    "This situation indicates the improvement after SGD optimization.\n",
    "Also, the line graph is plotted to visualize the loss from epoch to epoch.<br>\n",
    "\n",
    "To sum up, RF is a good algorithm for supervised learning with a high accuracy.\n",
    "The optimization using Stochastic Gradient Descent reduce the loss and improve the performance.<br>\n"
   ]
  }
 ],
 "metadata": {
  "kernelspec": {
   "display_name": "Python 3 (ipykernel)",
   "language": "python",
   "name": "python3"
  },
  "language_info": {
   "codemirror_mode": {
    "name": "ipython",
    "version": 3
   },
   "file_extension": ".py",
   "mimetype": "text/x-python",
   "name": "python",
   "nbconvert_exporter": "python",
   "pygments_lexer": "ipython3",
   "version": "3.9.7"
  }
 },
 "nbformat": 4,
 "nbformat_minor": 5
}
